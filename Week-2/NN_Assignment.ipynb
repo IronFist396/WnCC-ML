{
  "nbformat": 4,
  "nbformat_minor": 0,
  "metadata": {
    "colab": {
      "provenance": [],
      "gpuType": "T4",
      "include_colab_link": true
    },
    "kernelspec": {
      "name": "python3",
      "display_name": "Python 3"
    },
    "language_info": {
      "name": "python"
    },
    "accelerator": "GPU"
  },
  "cells": [
    {
      "cell_type": "markdown",
      "metadata": {
        "id": "view-in-github",
        "colab_type": "text"
      },
      "source": [
        "<a href=\"https://colab.research.google.com/github/IronFist396/WnCC-ML/blob/main/Week-2/NN_Assignment.ipynb\" target=\"_parent\"><img src=\"https://colab.research.google.com/assets/colab-badge.svg\" alt=\"Open In Colab\"/></a>"
      ]
    },
    {
      "cell_type": "code",
      "execution_count": 17,
      "metadata": {
        "id": "RZRR6cvW16Fe"
      },
      "outputs": [],
      "source": [
        "import tensorflow as tf\n",
        "from tensorflow import keras\n",
        "from tensorflow.keras import layers"
      ]
    },
    {
      "cell_type": "code",
      "source": [
        "!mkdir images"
      ],
      "metadata": {
        "id": "nhrawNf53g1E"
      },
      "execution_count": 2,
      "outputs": []
    },
    {
      "cell_type": "code",
      "source": [
        "import zipfile\n",
        "with zipfile.ZipFile('/content/homer_bart.zip', 'r') as zip_ref:\n",
        "    zip_ref.extractall('/content/images')"
      ],
      "metadata": {
        "id": "B93m8WR02QtR"
      },
      "execution_count": 3,
      "outputs": []
    },
    {
      "cell_type": "code",
      "source": [
        "img_height = 64\n",
        "img_width = 64\n",
        "batch_size = 32"
      ],
      "metadata": {
        "id": "LDujkp962qwM"
      },
      "execution_count": 10,
      "outputs": []
    },
    {
      "cell_type": "code",
      "source": [
        "dataset = keras.preprocessing.image_dataset_from_directory(\"/content/images\",image_size=(64, 64),label_mode = \"binary\")"
      ],
      "metadata": {
        "colab": {
          "base_uri": "https://localhost:8080/"
        },
        "id": "8jBJFs4BVoob",
        "outputId": "2aea04f4-6ce7-4a55-83ea-f10b55e147a5"
      },
      "execution_count": 5,
      "outputs": [
        {
          "output_type": "stream",
          "name": "stdout",
          "text": [
            "Found 269 files belonging to 2 classes.\n"
          ]
        }
      ]
    },
    {
      "cell_type": "code",
      "source": [
        "train_data = dataset.take(8)\n",
        "test_data = dataset.skip(8)\n",
        "train_data = train_data.cache().shuffle(1000).prefetch(buffer_size=tf.data.AUTOTUNE)\n",
        "test_data = test_data.cache().shuffle(1000).prefetch(buffer_size=tf.data.AUTOTUNE)"
      ],
      "metadata": {
        "id": "l4DS7KMCVomL"
      },
      "execution_count": 6,
      "outputs": []
    },
    {
      "cell_type": "code",
      "source": [
        "preprocess = keras.Sequential(\n",
        "    [layers.Rescaling(1./255)] # rescaling factor\n",
        ")\n",
        "model = keras.Sequential()\n",
        "model.add(layers.Input((img_height,img_width,3)))\n",
        "model.add(layers.Flatten())\n",
        "model.add(preprocess)\n",
        "model.add(layers.Dense(256, activation='relu'))\n",
        "model.add(layers.Dense(128, activation='relu'))\n",
        "model.add(layers.Dense(64, activation='relu'))\n",
        "model.add(layers.Dense(1, activation='sigmoid'))"
      ],
      "metadata": {
        "id": "0gLllGxhVojr"
      },
      "execution_count": 11,
      "outputs": []
    },
    {
      "cell_type": "code",
      "source": [
        "model.compile(optimizer=keras.optimizers.Adam(),\n",
        "              loss = keras.losses.BinaryCrossentropy(), # use tf.keras.losses._______(from_logits = False)\n",
        "              metrics = ['accuracy'])"
      ],
      "metadata": {
        "id": "-RFKnMzTVohc"
      },
      "execution_count": 12,
      "outputs": []
    },
    {
      "cell_type": "code",
      "source": [
        "model.fit(train_data,\n",
        "          epochs = 25,\n",
        "          batch_size = batch_size,\n",
        "          verbose=1,\n",
        "          validation_data = test_data)"
      ],
      "metadata": {
        "colab": {
          "base_uri": "https://localhost:8080/"
        },
        "id": "UW9OsUBnVofD",
        "outputId": "e600e6b6-bac1-4351-a164-9b0786358800"
      },
      "execution_count": 13,
      "outputs": [
        {
          "output_type": "stream",
          "name": "stdout",
          "text": [
            "Epoch 1/25\n",
            "8/8 [==============================] - 3s 54ms/step - loss: 3.4480 - accuracy: 0.5234 - val_loss: 0.6809 - val_accuracy: 0.5385\n",
            "Epoch 2/25\n",
            "8/8 [==============================] - 0s 6ms/step - loss: 0.8197 - accuracy: 0.5430 - val_loss: 0.9677 - val_accuracy: 0.4615\n",
            "Epoch 3/25\n",
            "8/8 [==============================] - 0s 8ms/step - loss: 0.7607 - accuracy: 0.6133 - val_loss: 0.7458 - val_accuracy: 0.4615\n",
            "Epoch 4/25\n",
            "8/8 [==============================] - 0s 9ms/step - loss: 0.7257 - accuracy: 0.5898 - val_loss: 0.6418 - val_accuracy: 0.6154\n",
            "Epoch 5/25\n",
            "8/8 [==============================] - 0s 6ms/step - loss: 0.6271 - accuracy: 0.6484 - val_loss: 0.6128 - val_accuracy: 0.6923\n",
            "Epoch 6/25\n",
            "8/8 [==============================] - 0s 6ms/step - loss: 0.5450 - accuracy: 0.7227 - val_loss: 0.4785 - val_accuracy: 0.7692\n",
            "Epoch 7/25\n",
            "8/8 [==============================] - 0s 6ms/step - loss: 0.5045 - accuracy: 0.7266 - val_loss: 0.4572 - val_accuracy: 0.7692\n",
            "Epoch 8/25\n",
            "8/8 [==============================] - 0s 6ms/step - loss: 0.4537 - accuracy: 0.7891 - val_loss: 0.6194 - val_accuracy: 0.6923\n",
            "Epoch 9/25\n",
            "8/8 [==============================] - 0s 5ms/step - loss: 0.4281 - accuracy: 0.8008 - val_loss: 0.4547 - val_accuracy: 0.6923\n",
            "Epoch 10/25\n",
            "8/8 [==============================] - 0s 5ms/step - loss: 0.4745 - accuracy: 0.7734 - val_loss: 0.5753 - val_accuracy: 0.7692\n",
            "Epoch 11/25\n",
            "8/8 [==============================] - 0s 8ms/step - loss: 0.4273 - accuracy: 0.7812 - val_loss: 0.3921 - val_accuracy: 0.7692\n",
            "Epoch 12/25\n",
            "8/8 [==============================] - 0s 8ms/step - loss: 0.3455 - accuracy: 0.8516 - val_loss: 0.3635 - val_accuracy: 0.8462\n",
            "Epoch 13/25\n",
            "8/8 [==============================] - 0s 8ms/step - loss: 0.3163 - accuracy: 0.8477 - val_loss: 0.3402 - val_accuracy: 0.8462\n",
            "Epoch 14/25\n",
            "8/8 [==============================] - 0s 5ms/step - loss: 0.3117 - accuracy: 0.8594 - val_loss: 0.3914 - val_accuracy: 0.8462\n",
            "Epoch 15/25\n",
            "8/8 [==============================] - 0s 5ms/step - loss: 0.3324 - accuracy: 0.8594 - val_loss: 0.3795 - val_accuracy: 0.8462\n",
            "Epoch 16/25\n",
            "8/8 [==============================] - 0s 8ms/step - loss: 0.3001 - accuracy: 0.8867 - val_loss: 0.2997 - val_accuracy: 0.8462\n",
            "Epoch 17/25\n",
            "8/8 [==============================] - 0s 6ms/step - loss: 0.2613 - accuracy: 0.9062 - val_loss: 0.2523 - val_accuracy: 0.9231\n",
            "Epoch 18/25\n",
            "8/8 [==============================] - 0s 7ms/step - loss: 0.2260 - accuracy: 0.9297 - val_loss: 0.2199 - val_accuracy: 0.9231\n",
            "Epoch 19/25\n",
            "8/8 [==============================] - 0s 10ms/step - loss: 0.2006 - accuracy: 0.9453 - val_loss: 0.2196 - val_accuracy: 0.9231\n",
            "Epoch 20/25\n",
            "8/8 [==============================] - 0s 10ms/step - loss: 0.2031 - accuracy: 0.9375 - val_loss: 0.1839 - val_accuracy: 1.0000\n",
            "Epoch 21/25\n",
            "8/8 [==============================] - 0s 7ms/step - loss: 0.1778 - accuracy: 0.9375 - val_loss: 0.1760 - val_accuracy: 1.0000\n",
            "Epoch 22/25\n",
            "8/8 [==============================] - 0s 8ms/step - loss: 0.1974 - accuracy: 0.9375 - val_loss: 0.1522 - val_accuracy: 1.0000\n",
            "Epoch 23/25\n",
            "8/8 [==============================] - 0s 10ms/step - loss: 0.1804 - accuracy: 0.9297 - val_loss: 0.1340 - val_accuracy: 1.0000\n",
            "Epoch 24/25\n",
            "8/8 [==============================] - 0s 7ms/step - loss: 0.1313 - accuracy: 0.9805 - val_loss: 0.1432 - val_accuracy: 1.0000\n",
            "Epoch 25/25\n",
            "8/8 [==============================] - 0s 7ms/step - loss: 0.1287 - accuracy: 0.9844 - val_loss: 0.1065 - val_accuracy: 1.0000\n"
          ]
        },
        {
          "output_type": "execute_result",
          "data": {
            "text/plain": [
              "<keras.src.callbacks.History at 0x78caf48077f0>"
            ]
          },
          "metadata": {},
          "execution_count": 13
        }
      ]
    },
    {
      "cell_type": "code",
      "source": [
        "loss, accuracy = model.evaluate(test_data)\n",
        "print(f'Validation Accuracy: {accuracy * 100:.2f}%')"
      ],
      "metadata": {
        "colab": {
          "base_uri": "https://localhost:8080/"
        },
        "id": "xM1xgL0aVoc8",
        "outputId": "75900132-a2d0-4e1a-d749-7b8eaae6e63c"
      },
      "execution_count": 15,
      "outputs": [
        {
          "output_type": "stream",
          "name": "stdout",
          "text": [
            "1/1 [==============================] - 0s 11ms/step - loss: 0.1065 - accuracy: 1.0000\n",
            "Validation Accuracy: 100.00%\n"
          ]
        }
      ]
    }
  ]
}