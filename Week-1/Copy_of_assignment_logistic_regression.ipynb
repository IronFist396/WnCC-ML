{
  "nbformat": 4,
  "nbformat_minor": 0,
  "metadata": {
    "colab": {
      "provenance": [],
      "include_colab_link": true
    },
    "kernelspec": {
      "name": "python3",
      "display_name": "Python 3"
    },
    "language_info": {
      "name": "python"
    }
  },
  "cells": [
    {
      "cell_type": "markdown",
      "metadata": {
        "id": "view-in-github",
        "colab_type": "text"
      },
      "source": [
        "<a href=\"https://colab.research.google.com/github/IronFist396/WnCC-ML/blob/main/Week-1/Copy_of_assignment_logistic_regression.ipynb\" target=\"_parent\"><img src=\"https://colab.research.google.com/assets/colab-badge.svg\" alt=\"Open In Colab\"/></a>"
      ]
    },
    {
      "cell_type": "markdown",
      "source": [
        "##ASSIGNMENT\n",
        "#Dataset\n",
        "Assume you are a scientist who is trying to make a propellent and is trying many tests to make an efficient propellent .\n",
        "<br>\n",
        "You have performed two tests.\n",
        "<br>\n",
        "From the two tests you would like whether this propellent works efficiently or not.\n",
        "Build your own logistic regression model to decide .\n",
        "<br>\n",
        "Text with \"DO NOT EDIT THIS CODE\" needs to be only run do not edit it\n"
      ],
      "metadata": {
        "id": "wNEUsAHHCGk2"
      }
    },
    {
      "cell_type": "code",
      "execution_count": null,
      "metadata": {
        "id": "xJm_XXJo4RDg"
      },
      "outputs": [],
      "source": [
        "#import libraries\n",
        "#write your code.\n",
        "import pandas as pd\n",
        "import numpy as np\n",
        "import matplotlib.pyplot as plt\n",
        "import math"
      ]
    },
    {
      "cell_type": "code",
      "source": [
        "#load data\n",
        "data=np.loadtxt(\"data.txt\", delimiter=',')\n",
        "X=data[:,:2]\n",
        "y=data[:,2]\n",
        "X_train=X\n",
        "y_train=y\n",
        "data.shape"
      ],
      "metadata": {
        "id": "YtL0jW6m4e1A",
        "colab": {
          "base_uri": "https://localhost:8080/"
        },
        "outputId": "94dac08e-93dc-4925-ca4a-c055a7cb6b4e"
      },
      "execution_count": null,
      "outputs": [
        {
          "output_type": "execute_result",
          "data": {
            "text/plain": [
              "(118, 3)"
            ]
          },
          "metadata": {},
          "execution_count": 2
        }
      ]
    },
    {
      "cell_type": "code",
      "source": [
        "#plot data to visualise\n",
        "def plot_data(X,y,positive_label=\"y=1\", negative_label=\"y=0\"):\n",
        "#positive_label and negative_label refers to classes of y as y can be 0 or 1\n",
        "    positive = y == 1\n",
        "    negative = y == 0\n",
        "    plt.plot(X[positive, 0], X[positive, 1], 'k+', label=positive_label)\n",
        "    plt.plot(X[negative, 0], X[negative, 1], 'yo', label=negative_label)\n",
        "#While plotting graph the label parameter will be either positive_label or negative_label so plot both the labels for"
      ],
      "metadata": {
        "id": "Bk2qYHyk4mNm"
      },
      "execution_count": null,
      "outputs": []
    },
    {
      "cell_type": "code",
      "source": [
        "#test\n",
        "plot_data(X_train, y_train[:], positive_label=\"Accepted\", negative_label=\"Rejected\")\n",
        "\n",
        "\n",
        "plt.xlabel('Test 2')\n",
        "plt.ylabel('Test 1')\n",
        "plt.legend(loc=\"upper right\")\n",
        "plt.show()"
      ],
      "metadata": {
        "id": "RzsMdrwv58tQ",
        "colab": {
          "base_uri": "https://localhost:8080/",
          "height": 449
        },
        "outputId": "273e0fcb-1a5d-47de-bc02-15b75d42c2fa"
      },
      "execution_count": null,
      "outputs": [
        {
          "output_type": "display_data",
          "data": {
            "text/plain": [
              "<Figure size 640x480 with 1 Axes>"
            ],
            "image/png": "[encoded data removed]"
          },
          "metadata": {}
        }
      ]
    },
    {
      "cell_type": "code",
      "source": [
        "#feature mapping\n",
        "def map_feature(X1,X2):\n",
        "  X1=np.atleast_1d(X1)\n",
        "  X2=np.atleast_1d(X2)\n",
        "  degree=6\n",
        "  out=[]\n",
        "  for i in range(1,degree+1):\n",
        "    for j in range(i+1):\n",
        "      out.append((X1**(i-j) * (X2**j)))\n",
        "  return np.stack(out, axis=1)"
      ],
      "metadata": {
        "id": "KhRBdaFi6nKo"
      },
      "execution_count": null,
      "outputs": []
    },
    {
      "cell_type": "code",
      "source": [
        "print(\"Original shape of data:\", X_train.shape)\n",
        "\n",
        "mapped_X =  map_feature(X_train[:, 0], X_train[:, 1])\n",
        "print(\"Shape after feature mapping:\", mapped_X.shape)"
      ],
      "metadata": {
        "id": "PNS4kJfq6_m8",
        "colab": {
          "base_uri": "https://localhost:8080/"
        },
        "outputId": "02fc957a-0473-4bd2-bd81-b1b9a77cc523"
      },
      "execution_count": null,
      "outputs": [
        {
          "output_type": "stream",
          "name": "stdout",
          "text": [
            "Original shape of data: (118, 2)\n",
            "Shape after feature mapping: (118, 27)\n"
          ]
        }
      ]
    },
    {
      "cell_type": "code",
      "source": [
        "# @title DO NOT EDIT THIS CODE\n",
        "def sigmoid_test(target):\n",
        "    assert np.isclose(target(3.0), 0.9525741268224334), \"Failed for scalar input\"\n",
        "    assert np.allclose(target(np.array([2.5, 0])), [0.92414182, 0.5]), \"Failed for 1D array\"\n",
        "    assert np.allclose(target(np.array([[2.5, -2.5], [0, 1]])),\n",
        "                       [[0.92414182, 0.07585818], [0.5, 0.73105858]]), \"Failed for 2D array\"\n",
        "    print('\\033[92mTests passed!')"
      ],
      "metadata": {
        "id": "BqlxZOXoHh4z",
        "cellView": "form"
      },
      "execution_count": null,
      "outputs": []
    },
    {
      "cell_type": "code",
      "source": [
        "#sigmoid function\n",
        "def sigmoid(z):\n",
        "#write your code\n",
        "  return 1/ (1 + np.exp(-z))\n",
        "\n"
      ],
      "metadata": {
        "id": "wdgE-ay07C0P"
      },
      "execution_count": null,
      "outputs": []
    },
    {
      "cell_type": "code",
      "source": [
        "sigmoid_test(sigmoid)\n"
      ],
      "metadata": {
        "id": "9XOlXXyxHnmB",
        "colab": {
          "base_uri": "https://localhost:8080/"
        },
        "outputId": "00fb5890-83d4-4564-8f51-53ca94827102"
      },
      "execution_count": null,
      "outputs": [
        {
          "output_type": "stream",
          "name": "stdout",
          "text": [
            "\u001b[92mTests passed!\n"
          ]
        }
      ]
    },
    {
      "cell_type": "code",
      "source": [
        "# @title DO NOT EDIT THIS CODE\n",
        "def compute_cost_test(target):\n",
        "    X = np.array([[0, 0, 0, 0]]).T\n",
        "    y = np.array([0, 0, 0, 0])\n",
        "    w = np.array([0])\n",
        "    b = 1\n",
        "    result = target(X, y, w, b)\n",
        "    if math.isinf(result):\n",
        "        raise ValueError(\"Did you get the sigmoid of z_wb?\")\n",
        "\n",
        "    np.random.seed(17)\n",
        "    X = np.random.randn(5, 2)\n",
        "    y = np.array([1, 0, 0, 1, 1])\n",
        "    w = np.random.randn(2)\n",
        "    b = 0\n",
        "    result = target(X, y, w, b)\n",
        "    assert np.isclose(result, 2.15510667), f\"Wrong output. Expected: {2.15510667} got: {result}\"\n",
        "\n",
        "    X = np.random.randn(4, 3)\n",
        "    y = np.array([1, 1, 0, 0])\n",
        "    w = np.random.randn(3)\n",
        "    b = 0\n",
        "\n",
        "    result = target(X, y, w, b)\n",
        "    assert np.isclose(result, 0.80709376), f\"Wrong output. Expected: {0.80709376} got: {result}\"\n",
        "\n",
        "    X = np.random.randn(4, 3)\n",
        "    y = np.array([1, 0,1, 0])\n",
        "    w = np.random.randn(3)\n",
        "    b = 3\n",
        "    result = target(X, y, w, b)\n",
        "    assert np.isclose(result, 0.4529660647), f\"Wrong output. Expected: {0.4529660647} got: {result}. Did you inizialized z_wb = b?\"\n",
        "\n",
        "    print('\\033[92mTests passed!')"
      ],
      "metadata": {
        "id": "QLqfyxPrH-v-",
        "cellView": "form"
      },
      "execution_count": null,
      "outputs": []
    },
    {
      "cell_type": "code",
      "source": [
        "#computing cost\n",
        "def compute_cost(X,y,w,b,lambda_=1):\n",
        "#write your code\n",
        "  m = len(y)\n",
        "  z = np.dot(X, w) + b\n",
        "  k = sigmoid(z)\n",
        "\n",
        "\n",
        "  total_cost = -(1 / m) * np.sum(y * np.log(k) + (1 - y) * np.log(1 - k))\n",
        "  return total_cost"
      ],
      "metadata": {
        "id": "PRIqcpJ17MzH"
      },
      "execution_count": null,
      "outputs": []
    },
    {
      "cell_type": "code",
      "source": [
        "test_w = np.array([0.2, 0.2])\n",
        "test_b = -24.\n",
        "cost = compute_cost(X_train, y_train, test_w, test_b)\n",
        "\n",
        "print('Cost at test w,b: {:.3f}'.format(cost))\n",
        "# test\n",
        "compute_cost_test(compute_cost)"
      ],
      "metadata": {
        "id": "MPOvLzL5H5-5",
        "colab": {
          "base_uri": "https://localhost:8080/"
        },
        "outputId": "d2c46298-06f5-4604-95ec-b79e741fdcf1"
      },
      "execution_count": null,
      "outputs": [
        {
          "output_type": "stream",
          "name": "stdout",
          "text": [
            "Cost at test w,b: 11.777\n",
            "\u001b[92mTests passed!\n"
          ]
        }
      ]
    },
    {
      "cell_type": "code",
      "source": [
        "#compute regularised cost\n",
        "def compute_cost_reg(X, y, w, b, lambda_ = 1):\n",
        "#write your code\n",
        "  m = len(y)\n",
        "  # print(X.shape, w.shape)\n",
        "  z = np.dot(X, w) + b\n",
        "  k = sigmoid(z)\n",
        "\n",
        "  total_cost = -(1 / m) * np.sum(y * np.log(k) + (1 - y) * np.log(1 - k)) + (lambda_ / (2 * m)) * np.sum(w * w)\n",
        "  return total_cost"
      ],
      "metadata": {
        "id": "ULkWUBkO7ffh"
      },
      "execution_count": null,
      "outputs": []
    },
    {
      "cell_type": "code",
      "source": [
        "# @title DO NOT EDIT THIS CODE\n",
        "def compute_cost_reg_test(target):\n",
        "    np.random.seed(1)\n",
        "    w = np.random.randn(3)\n",
        "    b = 0.4\n",
        "    X = np.random.randn(6, 3)\n",
        "    y = np.array([0, 1, 1, 0, 1, 1])\n",
        "    lambda_ = 0.1\n",
        "    expected_output = target(X, y, w, b, lambda_)\n",
        "\n",
        "    assert np.isclose(expected_output, 0.5469746792761936), f\"Wrong output. Expected: {0.5469746792761936} got:{expected_output}\"\n",
        "\n",
        "    w = np.random.randn(5)\n",
        "    b = -0.6\n",
        "    X = np.random.randn(8, 5)\n",
        "    y = np.array([1, 0, 1, 0, 0, 1, 0, 1])\n",
        "    lambda_ = 0.01\n",
        "    output = target(X, y, w, b, lambda_)\n",
        "    assert np.isclose(output, 1.2608591964119995), f\"Wrong output. Expected: {1.2608591964119995} got:{output}\"\n",
        "\n",
        "    w = np.array([2, 2, 2, 2, 2])\n",
        "    b = 0\n",
        "    X = np.zeros((8, 5))\n",
        "    y = np.array([0.5] * 8)\n",
        "    lambda_ = 3\n",
        "    output = target(X, y, w, b, lambda_)\n",
        "    expected = -np.log(0.5) + 3. / (2. * 8.) * 20.\n",
        "    assert np.isclose(output, expected), f\"Wrong output. Expected: {expected} got:{output}\"\n",
        "\n",
        "    print('\\033[92mAll tests passed!')"
      ],
      "metadata": {
        "id": "OhFbPakDGKQj",
        "cellView": "form"
      },
      "execution_count": null,
      "outputs": []
    },
    {
      "cell_type": "code",
      "source": [
        "X_mapped = map_feature(X_train[:, 0], X_train[:, 1])\n",
        "np.random.seed(1)\n",
        "initial_w = np.random.rand(X_mapped.shape[1]) - 0.5\n",
        "initial_b = 0.5\n",
        "lambda_ = 0.5\n",
        "cost = compute_cost_reg(X_mapped, y_train, initial_w, initial_b, lambda_)\n",
        "\n",
        "print(\"Regularised cost :\", cost)\n",
        "\n",
        "#test\n",
        "compute_cost_reg_test(compute_cost_reg)"
      ],
      "metadata": {
        "id": "jO14e7OD7syR",
        "colab": {
          "base_uri": "https://localhost:8080/"
        },
        "outputId": "0510ad98-65c1-4dc8-9068-954fd1252a7b"
      },
      "execution_count": null,
      "outputs": [
        {
          "output_type": "stream",
          "name": "stdout",
          "text": [
            "Regularised cost : 0.6618252552483951\n",
            "\u001b[92mAll tests passed!\n"
          ]
        }
      ]
    },
    {
      "cell_type": "code",
      "source": [
        "# @title DO NOT EDIT THIS CODE\n",
        "def compute_gradient_test(target):\n",
        "    np.random.seed(1)\n",
        "    X = np.random.randn(7, 3)\n",
        "    y = np.array([1, 0, 1, 0, 1, 1, 0])\n",
        "    test_w = np.array([1, 0.5, -0.35])\n",
        "    test_b = 1.7\n",
        "    dj_db, dj_dw  = target(X, y, test_w, test_b)\n",
        "\n",
        "    assert np.isclose(dj_db, 0.28936094), f\"Wrong value for dj_db. Expected: {0.28936094} got: {dj_db}\"\n",
        "    assert dj_dw.shape == test_w.shape, f\"Wrong shape for dj_dw. Expected: {test_w.shape} got: {dj_dw.shape}\"\n",
        "    assert np.allclose(dj_dw, [-0.11999166, 0.41498775, -0.71968405]), f\"Wrong values for dj_dw. Got: {dj_dw}\"\n",
        "\n",
        "    print('\\033[92mTests passed!')"
      ],
      "metadata": {
        "id": "plQBUPM2IRei",
        "cellView": "form"
      },
      "execution_count": null,
      "outputs": []
    },
    {
      "cell_type": "code",
      "source": [
        "#compute gradient\n",
        "def compute_gradient(X, y, w, b, lambda_=None):\n",
        "#write your code\n",
        "  m = len(y)\n",
        "  z = np.dot(X, w) + b\n",
        "  k = sigmoid(z)\n",
        "\n",
        "  dj_db = (1 / m) * np.sum(k - y)\n",
        "  dj_dw = (1 / m) * np.dot(X.T, (k - y))\n",
        "\n",
        "\n",
        "  return dj_db,dj_dw"
      ],
      "metadata": {
        "id": "v27SzhYX8-ug"
      },
      "execution_count": null,
      "outputs": []
    },
    {
      "cell_type": "code",
      "source": [
        "test_w = np.array([ 0.2, -0.5])\n",
        "test_b = -24\n",
        "dj_db, dj_dw  = compute_gradient(X_train, y_train, test_w, test_b)\n",
        "\n",
        "print('dj_db at test_w:', dj_db)\n",
        "print('dj_dw at test_w:', dj_dw.tolist())\n",
        "\n",
        "# test\n",
        "compute_gradient_test(compute_gradient)"
      ],
      "metadata": {
        "id": "WLmFL2yuIPUA",
        "colab": {
          "base_uri": "https://localhost:8080/"
        },
        "outputId": "407263cf-ad4f-4308-c195-8803c38afdf9"
      },
      "execution_count": null,
      "outputs": [
        {
          "output_type": "stream",
          "name": "stdout",
          "text": [
            "dj_db at test_w: -0.4915254236924827\n",
            "dj_dw at test_w: [-0.008601361012465381, -0.09147300847306207]\n",
            "\u001b[92mTests passed!\n"
          ]
        }
      ]
    },
    {
      "cell_type": "code",
      "source": [
        "#compute regularised gradient\n",
        "def compute_gradient_reg(X, y, w, b, lambda_=1):\n",
        "#write your code\n",
        "  m = len(y)\n",
        "  z = np.dot(X, w) + b\n",
        "  k = sigmoid(z)\n",
        "\n",
        "  dj_db = (1 / m) * np.sum(k - y)\n",
        "  dj_dw = (1 / m) * np.dot(X.T, (k - y)) + (lambda_ / m) * w\n",
        "\n",
        "  return dj_db,dj_dw"
      ],
      "metadata": {
        "id": "TGfUArz09TMl"
      },
      "execution_count": null,
      "outputs": []
    },
    {
      "cell_type": "code",
      "source": [
        "# @title DO NOT EDIT THIS CODE\n",
        "def compute_gradient_reg_test(target):\n",
        "    np.random.seed(1)\n",
        "    w = np.random.randn(5)\n",
        "    b = 0.2\n",
        "    X = np.random.randn(7, 5)\n",
        "    y = np.array([0, 1, 1, 0, 1, 1, 0])\n",
        "    lambda_ = 0.1\n",
        "    expected1 = (-0.1506447567869257, np.array([ 0.19530838, -0.00632206,  0.19687367,  0.15741161,  0.02791437]))\n",
        "    dj_db, dj_dw = target(X, y, w, b, lambda_)\n",
        "\n",
        "    assert np.isclose(dj_db, expected1[0]), f\"Wrong dj_db. Expected: {expected1[0]} got: {dj_db}\"\n",
        "    assert np.allclose(dj_dw, expected1[1]), f\"Wrong dj_dw. Expected: {expected1[1]} got: {dj_dw}\"\n",
        "\n",
        "\n",
        "    w = np.random.randn(7)\n",
        "    b = 0\n",
        "    X = np.random.randn(7, 7)\n",
        "    y = np.array([1, 0, 0, 0, 1, 1, 0])\n",
        "    lambda_ = 0\n",
        "    expected2 = (0.02660329857573818, np.array([ 0.23567643, -0.06921029, -0.19705212, -0.0002884 ,  0.06490588,\n",
        "        0.26948175,  0.10777992]))\n",
        "    dj_db, dj_dw = target(X, y, w, b, lambda_)\n",
        "    assert np.isclose(dj_db, expected2[0]), f\"Wrong dj_db. Expected: {expected2[0]} got: {dj_db}\"\n",
        "    assert np.allclose(dj_dw, expected2[1]), f\"Wrong dj_dw. Expected: {expected2[1]} got: {dj_dw}\"\n",
        "\n",
        "    print('\\033[92mTests passed!')"
      ],
      "metadata": {
        "id": "KNRCWIc8G2cp",
        "cellView": "form"
      },
      "execution_count": null,
      "outputs": []
    },
    {
      "cell_type": "code",
      "source": [
        "X_mapped = map_feature(X_train[:, 0], X_train[:, 1])\n",
        "np.random.seed(1)\n",
        "initial_w  = np.random.rand(X_mapped.shape[1]) - 0.5\n",
        "initial_b = 0.5\n",
        "\n",
        "lambda_ = 0.5\n",
        "dj_db, dj_dw = compute_gradient_reg(X_mapped, y_train, initial_w, initial_b, lambda_)\n",
        "\n",
        "print(f\"dj_db: {dj_db}\" )\n",
        "#test\n",
        "compute_gradient_reg_test(compute_gradient_reg)"
      ],
      "metadata": {
        "id": "3_of_BHJ9hEc",
        "colab": {
          "base_uri": "https://localhost:8080/"
        },
        "outputId": "836a643c-5f7c-41b1-e317-196ea3b43c52"
      },
      "execution_count": null,
      "outputs": [
        {
          "output_type": "stream",
          "name": "stdout",
          "text": [
            "dj_db: 0.07138288792343654\n",
            "\u001b[92mTests passed!\n"
          ]
        }
      ]
    },
    {
      "cell_type": "code",
      "source": [
        "import copy\n",
        "np.random.seed(1)\n",
        "initial_w = np.random.rand(X_mapped.shape[1])-0.5\n",
        "initial_b = 1.\n",
        "lambda_ = 0.01\n",
        "iterations = 4000\n",
        "alpha = 0.01\n",
        "\n",
        "# cost = compute_cost_reg(X_mapped, y_train, initial_w, initial_b)\n",
        "# print(compute_gradient_reg(X_mapped, y_train, initial_w, initial_b)[1])\n",
        "\n",
        "# print(initial_w.shape, X_mapped.shape)\n",
        "def gradient_descent(X_mapped, y_train, initial_w, initial_b, compute_cost_reg, compute_gradient_reg, alpha, iterations, lambda_):\n",
        "\n",
        "  #write your code\n",
        "  w = copy.deepcopy(initial_w)\n",
        "  b = copy.deepcopy(initial_b)\n",
        "  J_history = []\n",
        "  # print(w.shape, X_mapped.shape)\n",
        "\n",
        "  for i in range(iterations):\n",
        "      # Computing cost and gradients\n",
        "      # compute_cost_reg(X_mapped, y_train, w, b)\n",
        "      # compute_gradient_reg(X_mapped, y_train, w, b)\n",
        "\n",
        "      # Updating parameters\n",
        "      w -= alpha * compute_gradient_reg(X_mapped, y_train, w, b)[1]\n",
        "      b -= alpha * compute_gradient_reg(X_mapped, y_train, w, b)[0]\n",
        "\n",
        "      # Record the cost\n",
        "      J_history.append(cost)\n",
        "\n",
        "      # Printing cost every 100 iterations\n",
        "      if i % 100 == 0:\n",
        "          print(f\"Iteration {i}: Cost = {compute_cost_reg(X_mapped, y_train, w, b)}\")\n",
        "\n",
        "  return w, b, J_history, _\n",
        "\n",
        "w,b, J_history,_ = gradient_descent(X_mapped, y_train, initial_w, initial_b, compute_cost_reg, compute_gradient_reg, alpha, iterations, lambda_)"
      ],
      "metadata": {
        "id": "c5y3Nb9Z_SC4",
        "colab": {
          "base_uri": "https://localhost:8080/"
        },
        "outputId": "db34af27-b78b-4ea6-cba1-e2785e878297"
      },
      "execution_count": null,
      "outputs": [
        {
          "output_type": "stream",
          "name": "stdout",
          "text": [
            "Iteration 0: Cost = 0.7309949311083173\n",
            "Iteration 100: Cost = 0.6822511049514872\n",
            "Iteration 200: Cost = 0.6552091603201303\n",
            "Iteration 300: Cost = 0.6395963661049908\n",
            "Iteration 400: Cost = 0.6299191057404137\n",
            "Iteration 500: Cost = 0.6233536832845439\n",
            "Iteration 600: Cost = 0.6184580369469811\n",
            "Iteration 700: Cost = 0.6144912289038245\n",
            "Iteration 800: Cost = 0.611068355356825\n",
            "Iteration 900: Cost = 0.6079866344150721\n",
            "Iteration 1000: Cost = 0.6051372856411554\n",
            "Iteration 1100: Cost = 0.6024604939106872\n",
            "Iteration 1200: Cost = 0.599922190736802\n",
            "Iteration 1300: Cost = 0.5975019884038982\n",
            "Iteration 1400: Cost = 0.5951868650082672\n",
            "Iteration 1500: Cost = 0.5929678371134903\n",
            "Iteration 1600: Cost = 0.5908381942834551\n",
            "Iteration 1700: Cost = 0.588792554604937\n",
            "Iteration 1800: Cost = 0.586826353935376\n",
            "Iteration 1900: Cost = 0.584935565463846\n",
            "Iteration 2000: Cost = 0.5831165422899822\n",
            "Iteration 2100: Cost = 0.581365926201644\n",
            "Iteration 2200: Cost = 0.5796805924402427\n",
            "Iteration 2300: Cost = 0.5780576143161957\n",
            "Iteration 2400: Cost = 0.5764942390046834\n",
            "Iteration 2500: Cost = 0.5749878698278414\n",
            "Iteration 2600: Cost = 0.5735360524545962\n",
            "Iteration 2700: Cost = 0.5721364635907091\n",
            "Iteration 2800: Cost = 0.5707869013484961\n",
            "Iteration 2900: Cost = 0.5694852768220883\n",
            "Iteration 3000: Cost = 0.5682296065797784\n",
            "Iteration 3100: Cost = 0.5670180058892633\n",
            "Iteration 3200: Cost = 0.5658486825515286\n",
            "Iteration 3300: Cost = 0.564719931254689\n",
            "Iteration 3400: Cost = 0.5636301283810353\n",
            "Iteration 3500: Cost = 0.5625777272147551\n",
            "Iteration 3600: Cost = 0.5615612535074529\n",
            "Iteration 3700: Cost = 0.5605793013655467\n",
            "Iteration 3800: Cost = 0.559630529428815\n",
            "Iteration 3900: Cost = 0.5587136573134549\n"
          ]
        }
      ]
    },
    {
      "cell_type": "code",
      "source": [
        "#plot decision boundary\n",
        "def plot_decision_boundary(w,b,X,y):\n",
        "\n",
        "    plot_data(X[:, 0:2], y)\n",
        "\n",
        "    if X.shape[1] <= 2:\n",
        "        plot_x = np.array([min(X[:, 0]), max(X[:, 0])])\n",
        "        plot_y = (-1. / w[1]) * (w[0] * plot_x + b)\n",
        "\n",
        "        plt.plot(plot_x, plot_y, c=\"b\")\n",
        "\n",
        "    else:\n",
        "        u = np.linspace(-1, 1.5, 50)\n",
        "        v = np.linspace(-1, 1.5, 50)\n",
        "\n",
        "        z = np.zeros((len(u), len(v)))\n",
        "\n",
        "\n",
        "        for i in range(len(u)):\n",
        "            for j in range(len(v)):\n",
        "                z[i,j] = sigmoid(np.dot(map_feature(u[i], v[j]), w) + b)\n",
        "\n",
        "\n",
        "        z = z.T\n",
        "\n",
        "\n",
        "        plt.contour(u,v,z, levels = [0.5], colors=\"g\")"
      ],
      "metadata": {
        "id": "cqSOrJsTAf9p"
      },
      "execution_count": null,
      "outputs": []
    },
    {
      "cell_type": "code",
      "source": [
        "plot_decision_boundary(w, b, X_mapped, y_train)"
      ],
      "metadata": {
        "id": "etir_m_AAyYC",
        "colab": {
          "base_uri": "https://localhost:8080/",
          "height": 490
        },
        "outputId": "b64ea19a-eea5-4a51-c661-d4ae8f09a1ad"
      },
      "execution_count": null,
      "outputs": [
        {
          "output_type": "stream",
          "name": "stderr",
          "text": [
            "<ipython-input-82-1a0f4325d43d>:21: DeprecationWarning: Conversion of an array with ndim > 0 to a scalar is deprecated, and will error in future. Ensure you extract a single element from your array before performing this operation. (Deprecated NumPy 1.25.)\n",
            "  z[i,j] = sigmoid(np.dot(map_feature(u[i], v[j]), w) + b)\n"
          ]
        },
        {
          "output_type": "display_data",
          "data": {
            "text/plain": [
              "<Figure size 640x480 with 1 Axes>"
            ],
            "image/png": "[encoded data removed]"
          },
          "metadata": {}
        }
      ]
    },
    {
      "cell_type": "code",
      "source": [
        "#predict your training model\n",
        "def predict(X, w, b):\n",
        "  m,n=X.shape\n",
        "  p=np.zeros(m)\n",
        "  #write your code\n",
        "  z = np.dot(X, w) + b\n",
        "  k = sigmoid(z)\n",
        "\n",
        "  for i in range(m):\n",
        "    if k[i] >= 0.5:\n",
        "      p[i] = 1\n",
        "\n",
        "  return p"
      ],
      "metadata": {
        "id": "MD2Dup4OA1ew"
      },
      "execution_count": null,
      "outputs": []
    },
    {
      "cell_type": "code",
      "source": [
        "p = predict(X_mapped, w, b)\n",
        "\n",
        "print('Accuracy of training model: %f'%(np.mean(p == y_train) * 100))"
      ],
      "metadata": {
        "id": "TAhIPFIsBTjk",
        "colab": {
          "base_uri": "https://localhost:8080/"
        },
        "outputId": "e56892ca-7ad6-4170-bf29-b70f0799b2e4"
      },
      "execution_count": null,
      "outputs": [
        {
          "output_type": "stream",
          "name": "stdout",
          "text": [
            "Accuracy of training model: 82.203390\n"
          ]
        }
      ]
    },
    {
      "cell_type": "code",
      "source": [],
      "metadata": {
        "id": "tuRwau_fk32N"
      },
      "execution_count": null,
      "outputs": []
    }
  ]
}